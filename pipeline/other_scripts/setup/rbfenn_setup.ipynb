{
 "cells": [
  {
   "cell_type": "code",
   "execution_count": null,
   "metadata": {},
   "outputs": [],
   "source": [
    "import BioSimSpace as BSS\n",
    "import sys\n",
    "import glob\n",
    "import csv\n",
    "import numpy as np\n",
    "from sklearn.preprocessing import minmax_scale\n",
    "from pipeline.utils import *"
   ]
  },
  {
   "cell_type": "markdown",
   "metadata": {},
   "source": [
    "##### <span style=\"color:teal\">Generating the RBFENN</span>  \n"
   ]
  },
  {
   "cell_type": "markdown",
   "metadata": {},
   "source": [
    "Using different links files for the network generation."
   ]
  },
  {
   "cell_type": "code",
   "execution_count": 14,
   "metadata": {},
   "outputs": [],
   "source": [
    "# for sem perturbations\n",
    "protein = \"p38\"\n",
    "tgt_to_run = f\"{protein}_rename\"  # f\"{protein}_me\" f\"{protein}_rename\" for tyk2 and p38\n",
    "cats_files_path = f\"/home/anna/Documents/benchmark/scripts/RBFENN/ANALYSIS/perturbation_networks/output/series_predictions\""
   ]
  },
  {
   "cell_type": "code",
   "execution_count": 15,
   "metadata": {},
   "outputs": [],
   "source": [
    "def scaleArray(arr):\n",
    "    \"\"\"Scales an array to be the inverse in the range [0-1].\"\"\"\n",
    "\n",
    "    # normalise to the range 0-1.\n",
    "    return minmax_scale(1 / arr, feature_range=(0.03, 1))"
   ]
  },
  {
   "cell_type": "code",
   "execution_count": 16,
   "metadata": {},
   "outputs": [],
   "source": [
    "# get the FEPNN SEM prediction per ligand.\n",
    "perts = {}\n",
    "for cats_file in glob.glob(f\"{cats_files_path}/{tgt_to_run}_*\"):\n",
    "    with open(cats_file, \"r\") as readfile:\n",
    "        reader = csv.reader(readfile)\n",
    "        next(reader)\n",
    "        for row in reader:\n",
    "            pert = row[0]\n",
    "            pred_sem = float(row[1])\n",
    "\n",
    "            if not pert in perts:\n",
    "                perts[pert] = [pred_sem]\n",
    "            else:\n",
    "                perts[pert].append(pred_sem)\n",
    "\n",
    "# compute the mean SEM prediction per pert.\n",
    "pert_names = []\n",
    "pert_sems = []\n",
    "for pert, sems in perts.items():\n",
    "    mean_sem = np.mean(sems)\n",
    "    pert_names.append(pert)\n",
    "    pert_sems.append(float(mean_sem))\n",
    "\n",
    "# now scale the sems to [0-1].\n",
    "pert_sems = scaleArray(np.array(pert_sems))\n",
    "\n",
    "for pert, val in zip(pert_names, pert_sems):\n",
    "    perts[pert] = val"
   ]
  },
  {
   "cell_type": "code",
   "execution_count": null,
   "metadata": {},
   "outputs": [],
   "source": [
    "pl = initialise_pipeline()\n",
    "# where the ligands for the pipeline are located. These should all be in the same folder in sdf format\n",
    "pl.ligands_folder(f\"/home/anna/Documents/benchmark/inputs/reruns/{protein}/ligands\")\n",
    "# where the pipeline should be made\n",
    "pl.main_folder(f\"/home/anna/Documents/benchmark/test/{protein}\")\n",
    "\n",
    "\n",
    "protocol = pipeline_protocol()\n",
    "protocol.validate()\n",
    "ana_protocol = analysis_protocol()\n",
    "ana_protocol.validate()\n",
    "pl.add_pipeline_protocol(protocol)\n",
    "pl.add_analysis_protocol(ana_protocol)\n",
    "pl.setup_ligands()"
   ]
  },
  {
   "cell_type": "code",
   "execution_count": 18,
   "metadata": {},
   "outputs": [],
   "source": [
    "# make folder for the RBFENN network\n",
    "validate.folder_path(f\"{pl.exec_folder()}/RBFENN\", create=True)\n",
    "\n",
    "written = []\n",
    "with open(f\"{pl.exec_folder()}/RBFENN/links_file.in\", \"w\") as writefile:\n",
    "    writer = csv.writer(writefile, delimiter=\" \")\n",
    "\n",
    "    for pert_name, value in perts.items():\n",
    "        # find the lomap filename for both ligs.\n",
    "        liga_lomap_name = None\n",
    "        ligb_lomap_name = None\n",
    "        for filename in glob.glob(f\"{pl.ligands_folder()}/*.sdf\"):\n",
    "            # if \"lig_8\" in filename:\n",
    "            #     continue # exclude +1 ligands from tnks2 set.\n",
    "            if pert_name.split(\"~\")[0] in filename:\n",
    "                liga_lomap_name = filename.split(\"/\")[-1].split(\".\")[\n",
    "                    0\n",
    "                ]  # .replace(\"ejm\",\"ejm_\").replace(\"jmc\",\"jmc_\")\n",
    "            elif pert_name.split(\"~\")[1] in filename:\n",
    "                ligb_lomap_name = filename.split(\"/\")[-1].split(\".\")[\n",
    "                    0\n",
    "                ]  # .replace(\"ejm\",\"ejm_\").replace(\"jmc\",\"jmc_\")\n",
    "\n",
    "            if liga_lomap_name and ligb_lomap_name:\n",
    "                if not [liga_lomap_name, ligb_lomap_name] in written:\n",
    "                    writer.writerow([liga_lomap_name, ligb_lomap_name, value])\n",
    "\n",
    "                    written.append([liga_lomap_name, ligb_lomap_name])"
   ]
  },
  {
   "cell_type": "code",
   "execution_count": null,
   "metadata": {},
   "outputs": [],
   "source": [
    "# ligands and ligands_names already exists due to lomap above\n",
    "# if change the folder name, will put this in the execution model as default.\n",
    "pl.setup_network(folder=\"RBFENN\", links_file=f\"{pl.exec_folder()}/RBFENN/links_file.in\")\n",
    "\n",
    "# this will update the existing network.\n",
    "# write the rbfenn to a different network file\n",
    "pl.write_network(file_path=f\"{pl.exec_folder()}/rbfenn_network.dat\")"
   ]
  }
 ],
 "metadata": {
  "kernelspec": {
   "display_name": "pipeline_annamherz",
   "language": "python",
   "name": "python3"
  },
  "language_info": {
   "codemirror_mode": {
    "name": "ipython",
    "version": 3
   },
   "file_extension": ".py",
   "mimetype": "text/x-python",
   "name": "python",
   "nbconvert_exporter": "python",
   "pygments_lexer": "ipython3",
   "version": "3.10.15"
  },
  "orig_nbformat": 4
 },
 "nbformat": 4,
 "nbformat_minor": 2
}
